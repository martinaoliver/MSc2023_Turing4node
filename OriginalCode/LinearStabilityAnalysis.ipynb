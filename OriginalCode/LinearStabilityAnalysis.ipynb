{
 "cells": [
  {
   "cell_type": "code",
   "execution_count": 1,
   "metadata": {},
   "outputs": [],
   "source": [
    "import numpy as np\n",
    "from scipy import optimize\n",
    "from sympy import *\n",
    "from scipy.integrate import odeint\n",
    "from numpy import linalg as LA\n",
    "import matplotlib.pyplot as plt\n"
   ]
  },
  {
   "cell_type": "markdown",
   "metadata": {},
   "source": [
    "This script describes an analytical approach to understand whether a system in a non-growing field generates spatial periodic heterogeneities (Turing patterns). This approach consists in studying the stability of a steady state and the dispersion relation when diffusion is introduced. If introduction of diffusion turns a stable steady state into an unstable one, this is called a diffusion-driven instability which is the base of Turing patterns. \n",
    "\n",
    "An introductory explanation of this method can be found in http://webhome.phy.duke.edu/~hsg/414/files/lectures/linear-stability-notes.pdf\n",
    "\n",
    "This method consists of various steps.\n",
    "1. Find steady states\n",
    "2. Analyse their stability using linear stability analysis\n",
    "3. Analyse their stability when diffusion is introduced through the dispersion relation\n"
   ]
  },
  {
   "cell_type": "markdown",
   "metadata": {},
   "source": [
    "The system used as an example is the klika2021_65.\n",
    "\n",
    "\n",
    "$$\\frac{\\partial u}{\\partial t} = a-u+u^2v +  D_u \\frac{\\partial^2 u}{\\partial x^2} ,$$\n",
    "\n",
    "$$\\frac{\\partial v}{\\partial t} = b-u^2v + +  D_v \\frac{\\partial^2 v}{\\partial x^2} $$ \n",
    "\n",
    "\n",
    "Original paper: Gorder,Klika,Krause 2021 https://doi.org/10.1007/s00285-021-01552-y\n"
   ]
  },
  {
   "cell_type": "markdown",
   "metadata": {},
   "source": [
    "### 1. Find steady states"
   ]
  },
  {
   "cell_type": "markdown",
   "metadata": {},
   "source": [
    "This method has been explained in the previous notebook found in the OriginalCode/SteadyStates directory. \n",
    "\n",
    "The steady states obtained are  [1.1, 0.9091]"
   ]
  },
  {
   "cell_type": "code",
   "execution_count": 2,
   "metadata": {},
   "outputs": [
    {
     "name": "stdout",
     "output_type": "stream",
     "text": [
      "Steady state\n",
      "[1.1, 0.9090909090909091]\n"
     ]
    }
   ],
   "source": [
    "a = 0\n",
    "b =1.1\n",
    "Ustar = [a+b, b/(a+b)**2] \n",
    "print('Steady state')\n",
    "print(Ustar)"
   ]
  },
  {
   "cell_type": "markdown",
   "metadata": {},
   "source": [
    "### Function and jacobian definition"
   ]
  },
  {
   "cell_type": "code",
   "execution_count": 3,
   "metadata": {},
   "outputs": [],
   "source": [
    "#Equations defining the schnakenberg  system. \n",
    "#params is a vector including the kinetic parameters.\n",
    "\n",
    "def schnakenberg(u,params = [0.9,1]):\n",
    "    a,b = symbols('a'),symbols('b')\n",
    "    f_u0 = a - u[0] + (u[0]**2)*u[1]\n",
    "    f_u1 = b - (u[0]**2)*u[1]\n",
    "    return f_u0,f_u1\n",
    "    \n",
    "#Return jacobian matrix of a system\n",
    "# def jacobian_madz():\n",
    "#     U,V=symbols('U'),symbols('V')\n",
    "#     functions = Matrix(madz([U,V]))\n",
    "#     jacobian_matrix = functions.jacobian([U,V])\n",
    "#     return jacobian_matrix\n",
    "\n",
    "\n",
    "def jacobian_schnakenberg(wvn, diffusionConstants):\n",
    "    u = Ustar\n",
    "    d_A, d_B = diffusionConstants\n",
    "    \n",
    "    Ju0 = [2*u[0]*u[1] - 1 - d_A * wvn ** 2, u[0]**2]\n",
    "    Ju1 = [-2*u[0]*u[1], -u[0]**2 - d_B * wvn ** 2]\n",
    "    \n",
    "    return Ju0, Ju1\n"
   ]
  },
  {
   "cell_type": "markdown",
   "metadata": {},
   "source": [
    "### 2. Calculate dispersion relation (with and without diffusion)"
   ]
  },
  {
   "cell_type": "code",
   "execution_count": 4,
   "metadata": {},
   "outputs": [],
   "source": [
    "def calculate_dispersion(jac,x, diffusionConstants, top_dispersion,n_species=2):\n",
    "\n",
    "    # - Define which wavenumbers will be analysed. L = 100 in this case (100mm) (The experimental system is a 10cm plate)\n",
    "    # so wavelengths bigger than that are of no interest.\n",
    "    # - In this case we will sample 5000+1 different wavenumbers. If you sample less you might not find your turing instability.\n",
    "    # If you sample more, is more computationally expensive.\n",
    "\n",
    "    # wvn_list = np.array(list(range(0,5000+1)))*np.pi/100\n",
    "    wvn_list = np.array(list(range(0,top_dispersion+1)))*np.pi/100\n",
    "    count = 0\n",
    "    eigenvalues = np.zeros((len(wvn_list),n_species) ,dtype=np.complex_)\n",
    "    \n",
    "    for wvn in wvn_list:\n",
    "#         jac = jac(wvn) #obtain jacobian for corresponding system. This time with a determined wvn.\n",
    "        eigenval, eigenvec = LA.eig(jac(wvn, diffusionConstants)) #calculate the eigenvalues of the jacobian with diffusion\n",
    "        # sort eigenvalues so the one with the instability is at position -1.\n",
    "        idx = np.argsort(eigenval) #np.argsort\n",
    "        eigenval= eigenval[idx] #orders eigenvalues for each k.\n",
    "        eigenvalues[count]  = eigenval\n",
    "        count +=1\n",
    "\n",
    "    return eigenvalues\n"
   ]
  },
  {
   "attachments": {},
   "cell_type": "markdown",
   "metadata": {},
   "source": [
    "# Turing\n"
   ]
  },
  {
   "cell_type": "code",
   "execution_count": 15,
   "metadata": {},
   "outputs": [
    {
     "data": {
      "text/plain": [
       "<matplotlib.legend.Legend at 0x7fa9f1a53f10>"
      ]
     },
     "execution_count": 15,
     "metadata": {},
     "output_type": "execute_result"
    },
    {
     "data": {
      "image/png": "[encoded data removed]",
      "text/plain": [
       "<Figure size 432x288 with 1 Axes>"
      ]
     },
     "metadata": {
      "needs_background": "light"
     },
     "output_type": "display_data"
    }
   ],
   "source": [
    "a = 0\n",
    "b =1.1\n",
    "diffusionConstants = [1,10]\n",
    "Ustar = [a+b, b/(a+b)**2] \n",
    "top_dispersion = 30\n",
    "\n",
    "eigenvalues = calculate_dispersion(jacobian_schnakenberg, Ustar, diffusionConstants,  top_dispersion)\n",
    "plt.plot( np.array(list(range(0,top_dispersion+1)))*np.pi/100, np.real(eigenvalues), c='k', label = ['Real eigenvalue 1', 'Real eigenvalue 2'])\n",
    "plt.plot( np.array(list(range(0,top_dispersion+1)))*np.pi/100, np.imag(eigenvalues), c='k', linestyle='--', label = ['Imag eigenvalue 1', 'Imag eigenvalue 2'])\n",
    "plt.grid()\n",
    "plt.ylabel('eigenvalue')\n",
    "plt.xlabel('wvn')\n",
    "plt.legend()\n"
   ]
  },
  {
   "attachments": {},
   "cell_type": "markdown",
   "metadata": {},
   "source": [
    "# No Turing"
   ]
  },
  {
   "cell_type": "code",
   "execution_count": 16,
   "metadata": {},
   "outputs": [
    {
     "data": {
      "text/plain": [
       "<matplotlib.legend.Legend at 0x7fa9d02cb430>"
      ]
     },
     "execution_count": 16,
     "metadata": {},
     "output_type": "execute_result"
    },
    {
     "data": {
      "image/png": "[encoded data removed]",
      "text/plain": [
       "<Figure size 432x288 with 1 Axes>"
      ]
     },
     "metadata": {
      "needs_background": "light"
     },
     "output_type": "display_data"
    }
   ],
   "source": [
    "a = 1.5\n",
    "b =0.2\n",
    "diffusionConstants = [1,10]\n",
    "Ustar = [a+b, b/(a+b)**2] \n",
    "top_dispersion = 30\n",
    "\n",
    "eigenvalues = calculate_dispersion(jacobian_schnakenberg, Ustar, diffusionConstants,  top_dispersion)\n",
    "plt.plot( np.array(list(range(0,top_dispersion+1)))*np.pi/100, np.real(eigenvalues), c='k', label = ['Real eigenvalue 1', 'Real eigenvalue 2'])\n",
    "plt.plot( np.array(list(range(0,top_dispersion+1)))*np.pi/100, np.imag(eigenvalues), c='k', linestyle='--', label = ['Imag eigenvalue 1', 'Imag eigenvalue 2'])\n",
    "plt.grid()\n",
    "plt.ylabel('eigenvalue')\n",
    "plt.xlabel('wvn')\n",
    "plt.legend()"
   ]
  },
  {
   "cell_type": "code",
   "execution_count": null,
   "metadata": {},
   "outputs": [],
   "source": []
  }
 ],
 "metadata": {
  "kernelspec": {
   "display_name": "env1",
   "language": "python",
   "name": "python3"
  },
  "language_info": {
   "codemirror_mode": {
    "name": "ipython",
    "version": 3
   },
   "file_extension": ".py",
   "mimetype": "text/x-python",
   "name": "python",
   "nbconvert_exporter": "python",
   "pygments_lexer": "ipython3",
   "version": "3.8.5"
  },
  "vscode": {
   "interpreter": {
    "hash": "d35418776e92b8f88bb63c52115ca892af42f3e151db9c12328e54626c84f340"
   }
  }
 },
 "nbformat": 4,
 "nbformat_minor": 4
}
